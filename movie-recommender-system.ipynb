{
 "cells": [
  {
   "cell_type": "code",
   "execution_count": null,
   "id": "21dc90e0",
   "metadata": {},
   "outputs": [],
   "source": [
    "import numpy as np\n",
    "import pandas as pd"
   ]
  },
  {
   "cell_type": "code",
   "execution_count": null,
   "id": "3f13be38",
   "metadata": {},
   "outputs": [],
   "source": [
    "# ignore possible warnings\n",
    "import warnings\n",
    "warnings.filterwarnings('ignore')"
   ]
  },
  {
   "cell_type": "code",
   "execution_count": null,
   "id": "8e56c9f3",
   "metadata": {},
   "outputs": [],
   "source": [
    "movies = pd.read_csv('datasets/movies.csv')\n",
    "credits = pd.read_csv('datasets/credits.csv')"
   ]
  },
  {
   "cell_type": "code",
   "execution_count": null,
   "id": "f2e027b6",
   "metadata": {},
   "outputs": [],
   "source": [
    "movies.head(1)"
   ]
  },
  {
   "cell_type": "code",
   "execution_count": null,
   "id": "22773972",
   "metadata": {},
   "outputs": [],
   "source": [
    "credits.head(1)"
   ]
  },
  {
   "cell_type": "code",
   "execution_count": null,
   "id": "c2550268",
   "metadata": {},
   "outputs": [],
   "source": [
    "credits.head(1)['cast'].values\n",
    "\n",
    "credits.head(1)['crew'].values"
   ]
  },
  {
   "cell_type": "code",
   "execution_count": null,
   "id": "9e909ad0",
   "metadata": {},
   "outputs": [],
   "source": [
    "movies_db = movies.merge(credits, on = 'title')"
   ]
  },
  {
   "cell_type": "code",
   "execution_count": null,
   "id": "8c6e32a9",
   "metadata": {},
   "outputs": [],
   "source": [
    "movies_db.head(1)"
   ]
  },
  {
   "cell_type": "code",
   "execution_count": null,
   "id": "bc18f809",
   "metadata": {},
   "outputs": [],
   "source": [
    "movies_db.columns"
   ]
  },
  {
   "cell_type": "code",
   "execution_count": null,
   "id": "5077e112",
   "metadata": {},
   "outputs": [],
   "source": [
    "# we are keeping the following:\n",
    "\n",
    "# genres\n",
    "# id\n",
    "# keywords\n",
    "# overview\n",
    "# title\n",
    "# cast\n",
    "# crew\n",
    "\n",
    "movies_final_db = movies_db[['id','title','overview','genres','keywords','cast','crew']]"
   ]
  },
  {
   "cell_type": "code",
   "execution_count": null,
   "id": "08445eb8",
   "metadata": {},
   "outputs": [],
   "source": [
    "movies_final_db.head(1)"
   ]
  },
  {
   "cell_type": "code",
   "execution_count": null,
   "id": "a2dc4cdf",
   "metadata": {},
   "outputs": [],
   "source": [
    "movies_final_db.isnull().sum()"
   ]
  },
  {
   "cell_type": "code",
   "execution_count": null,
   "id": "be90499f",
   "metadata": {},
   "outputs": [],
   "source": [
    "#drop rows with null \n",
    "movies_final_db.dropna(inplace=True)"
   ]
  },
  {
   "cell_type": "code",
   "execution_count": null,
   "id": "525d5914",
   "metadata": {},
   "outputs": [],
   "source": [
    "movies_final_db.isnull().sum()"
   ]
  },
  {
   "cell_type": "code",
   "execution_count": null,
   "id": "71279b10",
   "metadata": {},
   "outputs": [],
   "source": [
    "movies_final_db.duplicated().sum()"
   ]
  },
  {
   "cell_type": "code",
   "execution_count": null,
   "id": "830aa683",
   "metadata": {},
   "outputs": [],
   "source": [
    "movies_final_db.iloc[0].genres"
   ]
  },
  {
   "cell_type": "code",
   "execution_count": null,
   "id": "87b9002e",
   "metadata": {},
   "outputs": [],
   "source": [
    "import ast"
   ]
  },
  {
   "cell_type": "code",
   "execution_count": null,
   "id": "abe028cd",
   "metadata": {},
   "outputs": [],
   "source": [
    "def convert(obj):\n",
    "    L = []\n",
    "    for i in ast.literal_eval(obj):\n",
    "        L.append(i['name'])\n",
    "    return L "
   ]
  },
  {
   "cell_type": "code",
   "execution_count": null,
   "id": "1087030e",
   "metadata": {},
   "outputs": [],
   "source": [
    "movies_final_db['genres'] = movies_final_db['genres'].apply(convert)\n",
    "movies_final_db['keywords'] = movies_final_db['keywords'].apply(convert)\n",
    "movies_final_db['cast'] = movies_final_db['cast'].apply(convert)"
   ]
  },
  {
   "cell_type": "code",
   "execution_count": null,
   "id": "8cbb7d2b",
   "metadata": {},
   "outputs": [],
   "source": [
    "movies_final_db.head(1)"
   ]
  },
  {
   "cell_type": "code",
   "execution_count": null,
   "id": "8474d621",
   "metadata": {},
   "outputs": [],
   "source": [
    "movies_final_db['crew'][0]"
   ]
  },
  {
   "cell_type": "code",
   "execution_count": null,
   "id": "e7f5a9d7",
   "metadata": {},
   "outputs": [],
   "source": [
    "def fetch_director(obj):\n",
    "    L = []\n",
    "    for i in ast.literal_eval(obj):\n",
    "        if i['job'] == 'Director':\n",
    "            L.append(i['name'])\n",
    "            break\n",
    "    return L \n",
    "\n",
    "movies_final_db['crew'] = movies_final_db['crew'].apply(fetch_director)\n",
    "# movies_final_db['crew'].apply(fetch_director)"
   ]
  },
  {
   "cell_type": "code",
   "execution_count": null,
   "id": "04f5c835",
   "metadata": {},
   "outputs": [],
   "source": [
    "movies_final_db.head(1)"
   ]
  },
  {
   "cell_type": "code",
   "execution_count": null,
   "id": "1a6e79c5",
   "metadata": {},
   "outputs": [],
   "source": [
    "#converting the overview (string) into list\n",
    "movies_final_db['overview'].apply(lambda x : x.split())"
   ]
  },
  {
   "cell_type": "code",
   "execution_count": null,
   "id": "421a27fd",
   "metadata": {},
   "outputs": [],
   "source": [
    "movies_final_db['overview'] = movies_final_db['overview'].apply(lambda x : x.split())"
   ]
  },
  {
   "cell_type": "code",
   "execution_count": null,
   "id": "bf198bc3",
   "metadata": {},
   "outputs": [],
   "source": [
    "movies_final_db.head(1)"
   ]
  },
  {
   "cell_type": "code",
   "execution_count": null,
   "id": "c6fd9478",
   "metadata": {},
   "outputs": [],
   "source": [
    "movies_final_db['genres'] = movies_final_db['genres'].apply(lambda x:[i.replace(\" \" , \"\") for i in x])\n",
    "movies_final_db['keywords'] = movies_final_db['keywords'].apply(lambda x:[i.replace(\" \" , \"\") for i in x])\n",
    "movies_final_db['cast'] = movies_final_db['cast'].apply(lambda x:[i.replace(\" \" , \"\") for i in x])\n",
    "movies_final_db['crew'] = movies_final_db['crew'].apply(lambda x:[i.replace(\" \" , \"\") for i in x])"
   ]
  },
  {
   "cell_type": "code",
   "execution_count": null,
   "id": "5c1367c3",
   "metadata": {},
   "outputs": [],
   "source": [
    "movies_final_db.head(1)"
   ]
  },
  {
   "cell_type": "code",
   "execution_count": null,
   "id": "f97f6d33",
   "metadata": {},
   "outputs": [],
   "source": [
    "# concate columns (overview, genres,keywords,cast,crew) into new 'tags' column\n",
    "movies_final_db['tags'] = movies_final_db['overview'] + movies_final_db['genres'] + movies_final_db['keywords'] + movies_final_db['cast'] + movies_final_db['crew']"
   ]
  },
  {
   "cell_type": "code",
   "execution_count": null,
   "id": "800e01a4",
   "metadata": {},
   "outputs": [],
   "source": [
    "movies_final_db.head(1)"
   ]
  },
  {
   "cell_type": "code",
   "execution_count": null,
   "id": "34d65f3a",
   "metadata": {},
   "outputs": [],
   "source": [
    "movies_final_db['tags'][0]"
   ]
  },
  {
   "cell_type": "markdown",
   "id": "23c0d3bc",
   "metadata": {},
   "source": [
    "### new dataframe"
   ]
  },
  {
   "cell_type": "code",
   "execution_count": null,
   "id": "4a15f8c9",
   "metadata": {},
   "outputs": [],
   "source": [
    "new_df = movies_final_db[['id','title','tags']]"
   ]
  },
  {
   "cell_type": "code",
   "execution_count": null,
   "id": "d89fd0f2",
   "metadata": {},
   "outputs": [],
   "source": [
    "new_df"
   ]
  },
  {
   "cell_type": "code",
   "execution_count": null,
   "id": "f2388f0b",
   "metadata": {},
   "outputs": [],
   "source": [
    "new_df['tags'].apply(lambda x:\" \".join(x))"
   ]
  },
  {
   "cell_type": "code",
   "execution_count": null,
   "id": "59923073",
   "metadata": {},
   "outputs": [],
   "source": [
    "new_df['tags'] = new_df['tags'].apply(lambda x:\" \".join(x))"
   ]
  },
  {
   "cell_type": "code",
   "execution_count": null,
   "id": "2d2fcaed",
   "metadata": {},
   "outputs": [],
   "source": [
    "new_df.head()"
   ]
  },
  {
   "cell_type": "code",
   "execution_count": null,
   "id": "fb40282e",
   "metadata": {},
   "outputs": [],
   "source": [
    "new_df['tags'][0]"
   ]
  },
  {
   "cell_type": "code",
   "execution_count": null,
   "id": "fbaf2afb",
   "metadata": {},
   "outputs": [],
   "source": [
    "new_df['tags'].apply(lambda x: x.lower())"
   ]
  },
  {
   "cell_type": "code",
   "execution_count": null,
   "id": "af816f48",
   "metadata": {},
   "outputs": [],
   "source": [
    "new_df['tags'] = new_df['tags'].apply(lambda x: x.lower())"
   ]
  },
  {
   "cell_type": "code",
   "execution_count": null,
   "id": "7b081c16",
   "metadata": {},
   "outputs": [],
   "source": [
    "new_df.head()"
   ]
  },
  {
   "cell_type": "markdown",
   "id": "afda514f",
   "metadata": {},
   "source": [
    "# applying steming"
   ]
  },
  {
   "cell_type": "code",
   "execution_count": null,
   "id": "6106034e",
   "metadata": {},
   "outputs": [],
   "source": [
    "import nltk"
   ]
  },
  {
   "cell_type": "code",
   "execution_count": null,
   "id": "68f069e4",
   "metadata": {},
   "outputs": [],
   "source": [
    "# !pip install nltk"
   ]
  },
  {
   "cell_type": "code",
   "execution_count": null,
   "id": "317e1275",
   "metadata": {},
   "outputs": [],
   "source": [
    "from nltk.stem.porter import PorterStemmer\n",
    "ps = PorterStemmer()"
   ]
  },
  {
   "cell_type": "code",
   "execution_count": null,
   "id": "cf84a798",
   "metadata": {},
   "outputs": [],
   "source": [
    "def stem(text):\n",
    "    y = []\n",
    "    \n",
    "    for i in text.split():\n",
    "        y.append(ps.stem(i))\n",
    "    \n",
    "    return \" \".join(y)"
   ]
  },
  {
   "cell_type": "code",
   "execution_count": null,
   "id": "53310f57",
   "metadata": {},
   "outputs": [],
   "source": [
    "new_df['tags'].apply(stem)"
   ]
  },
  {
   "cell_type": "code",
   "execution_count": null,
   "id": "9208953c",
   "metadata": {},
   "outputs": [],
   "source": [
    "new_df['tags'] = new_df['tags'].apply(stem)"
   ]
  },
  {
   "cell_type": "markdown",
   "id": "a0171856",
   "metadata": {},
   "source": [
    "### text vectorization scikitlearn"
   ]
  },
  {
   "cell_type": "code",
   "execution_count": null,
   "id": "a891b67f",
   "metadata": {},
   "outputs": [],
   "source": [
    "from sklearn.feature_extraction.text import CountVectorizer\n",
    "# cv = CountVectorizer(max_features = 6000, stop_words=True)\n",
    "cv = CountVectorizer(max_features = 5000, stop_words='english')"
   ]
  },
  {
   "cell_type": "code",
   "execution_count": null,
   "id": "e9c7b60f",
   "metadata": {},
   "outputs": [],
   "source": [
    "vectors = cv.fit_transform(new_df['tags']).toarray()"
   ]
  },
  {
   "cell_type": "code",
   "execution_count": null,
   "id": "ba1af40f",
   "metadata": {},
   "outputs": [],
   "source": [
    "vectors.shape\n",
    "vectors"
   ]
  },
  {
   "cell_type": "code",
   "execution_count": null,
   "id": "83a2d8da",
   "metadata": {},
   "outputs": [],
   "source": [
    "#most frequent 5000 words\n",
    "cv.get_feature_names()\n",
    "# len(cv.get_feature_names())"
   ]
  },
  {
   "cell_type": "markdown",
   "id": "7ae5c163",
   "metadata": {},
   "source": [
    "### cosine_similarity scikitlearn"
   ]
  },
  {
   "cell_type": "code",
   "execution_count": null,
   "id": "6875144f",
   "metadata": {},
   "outputs": [],
   "source": [
    "from sklearn.metrics.pairwise import cosine_similarity"
   ]
  },
  {
   "cell_type": "code",
   "execution_count": null,
   "id": "a0991f40",
   "metadata": {},
   "outputs": [],
   "source": [
    "cosine_similarity(vectors)"
   ]
  },
  {
   "cell_type": "code",
   "execution_count": null,
   "id": "4a48c40e",
   "metadata": {},
   "outputs": [],
   "source": [
    "cosine_similarity(vectors).shape"
   ]
  },
  {
   "cell_type": "code",
   "execution_count": null,
   "id": "13020b77",
   "metadata": {},
   "outputs": [],
   "source": [
    "similarity = cosine_similarity(vectors)"
   ]
  },
  {
   "cell_type": "code",
   "execution_count": null,
   "id": "de1d9335",
   "metadata": {},
   "outputs": [],
   "source": [
    "similarity"
   ]
  },
  {
   "cell_type": "code",
   "execution_count": null,
   "id": "7c5055ea",
   "metadata": {},
   "outputs": [],
   "source": [
    "def recommend(movie):\n",
    "    movie_index = new_df[new_df['title'] == movie].index[0]\n",
    "    distances = similarity[movie_index]\n",
    "    recommended_list = sorted(list(enumerate(distances)), reverse = True, key = lambda x:x[1])[1:6]\n",
    "    \n",
    "    for i in recommended_list:\n",
    "        print(new_df.iloc[i[0]].title)\n",
    "#         print(i[0])"
   ]
  },
  {
   "cell_type": "code",
   "execution_count": null,
   "id": "33dcaf01",
   "metadata": {},
   "outputs": [],
   "source": [
    "recommend('Avatar')\n",
    "# recommend('Fight Club')"
   ]
  },
  {
   "cell_type": "markdown",
   "id": "e6067550",
   "metadata": {},
   "source": [
    "### exporting movies names to website"
   ]
  },
  {
   "cell_type": "code",
   "execution_count": null,
   "id": "a649ecb5",
   "metadata": {},
   "outputs": [],
   "source": [
    "import pickle"
   ]
  },
  {
   "cell_type": "code",
   "execution_count": null,
   "id": "c683457a",
   "metadata": {},
   "outputs": [],
   "source": [
    "pickle.dump(new_df,open('movies.pkl','wb'))"
   ]
  },
  {
   "cell_type": "code",
   "execution_count": null,
   "id": "6707d278",
   "metadata": {},
   "outputs": [],
   "source": [
    "#exporting as a dictionary\n",
    "pickle.dump(new_df.to_dict(),open('movies_dict.pkl','wb'))"
   ]
  },
  {
   "cell_type": "code",
   "execution_count": null,
   "id": "0bd99e07",
   "metadata": {},
   "outputs": [],
   "source": [
    "## dumping similarity\n",
    "pickle.dump(similarity,open('similarity.pkl','wb'))"
   ]
  },
  {
   "cell_type": "code",
   "execution_count": null,
   "id": "f8aa4c04",
   "metadata": {},
   "outputs": [],
   "source": []
  }
 ],
 "metadata": {
  "kernelspec": {
   "display_name": "Python 3 (ipykernel)",
   "language": "python",
   "name": "python3"
  },
  "language_info": {
   "codemirror_mode": {
    "name": "ipython",
    "version": 3
   },
   "file_extension": ".py",
   "mimetype": "text/x-python",
   "name": "python",
   "nbconvert_exporter": "python",
   "pygments_lexer": "ipython3",
   "version": "3.9.13"
  }
 },
 "nbformat": 4,
 "nbformat_minor": 5
}
